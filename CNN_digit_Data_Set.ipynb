{
  "nbformat": 4,
  "nbformat_minor": 0,
  "metadata": {
    "colab": {
      "name": "CNN digit Data-Set.ipynb",
      "provenance": [],
      "include_colab_link": true
    },
    "kernelspec": {
      "name": "python3",
      "display_name": "Python 3"
    },
    "accelerator": "TPU"
  },
  "cells": [
    {
      "cell_type": "markdown",
      "metadata": {
        "id": "view-in-github",
        "colab_type": "text"
      },
      "source": [
        "<a href=\"https://colab.research.google.com/github/Raghu010/Convolution-Neural-Network-applied-on-digit-datset/blob/master/CNN_digit_Data_Set.ipynb\" target=\"_parent\"><img src=\"https://colab.research.google.com/assets/colab-badge.svg\" alt=\"Open In Colab\"/></a>"
      ]
    },
    {
      "cell_type": "code",
      "metadata": {
        "id": "Z-nlFRRirt1M",
        "colab_type": "code",
        "colab": {}
      },
      "source": [
        "from __future__ import absolute_import, print_function, division, unicode_literals"
      ],
      "execution_count": 0,
      "outputs": []
    },
    {
      "cell_type": "code",
      "metadata": {
        "id": "2hMfpRx8r-wS",
        "colab_type": "code",
        "outputId": "d5603ea7-4818-43c0-c24a-1d3d2d1037c2",
        "colab": {
          "base_uri": "https://localhost:8080/",
          "height": 34
        }
      },
      "source": [
        "try:\n",
        "  %tensorflow_version 2.x\n",
        "except Exception:\n",
        "  pass"
      ],
      "execution_count": 0,
      "outputs": [
        {
          "output_type": "stream",
          "text": [
            "TensorFlow 2.x selected.\n"
          ],
          "name": "stdout"
        }
      ]
    },
    {
      "cell_type": "code",
      "metadata": {
        "id": "48qEho7BsHsd",
        "colab_type": "code",
        "colab": {}
      },
      "source": [
        "import tensorflow as tf\n",
        "import tensorflow_datasets as tfds\n",
        "tfds.disable_progress_bar()"
      ],
      "execution_count": 0,
      "outputs": []
    },
    {
      "cell_type": "code",
      "metadata": {
        "id": "BZ-1zMtZsLZJ",
        "colab_type": "code",
        "colab": {}
      },
      "source": [
        "import numpy as np\n",
        "import matplotlib.pyplot as plt"
      ],
      "execution_count": 0,
      "outputs": []
    },
    {
      "cell_type": "code",
      "metadata": {
        "id": "trVfAEHss0vf",
        "colab_type": "code",
        "colab": {}
      },
      "source": [
        "import logging\n",
        "logger = tf.get_logger()\n",
        "logger.setLevel(logging.ERROR)"
      ],
      "execution_count": 0,
      "outputs": []
    },
    {
      "cell_type": "code",
      "metadata": {
        "id": "0dsQlvcf4wok",
        "colab_type": "code",
        "outputId": "e6ce9d6d-9c03-40e3-da1a-5a3dc69e358f",
        "colab": {
          "base_uri": "https://localhost:8080/",
          "height": 136
        }
      },
      "source": [
        "data, metadata = tfds.load('mnist', as_supervised= True, with_info= True)"
      ],
      "execution_count": 0,
      "outputs": [
        {
          "output_type": "stream",
          "text": [
            "WARNING:absl:Dataset mnist is hosted on GCS. It will automatically be downloaded to your\n",
            "local data directory. If you'd instead prefer to read directly from our public\n",
            "GCS bucket (recommended if you're running on GCP), you can instead set\n",
            "data_dir=gs://tfds-data/datasets.\n",
            "\n"
          ],
          "name": "stderr"
        },
        {
          "output_type": "stream",
          "text": [
            "\u001b[1mDownloading and preparing dataset mnist (11.06 MiB) to /root/tensorflow_datasets/mnist/1.0.0...\u001b[0m\n",
            "\u001b[1mDataset mnist downloaded and prepared to /root/tensorflow_datasets/mnist/1.0.0. Subsequent calls will reuse this data.\u001b[0m\n"
          ],
          "name": "stdout"
        }
      ]
    },
    {
      "cell_type": "code",
      "metadata": {
        "id": "RjC9b2Et7XRO",
        "colab_type": "code",
        "colab": {}
      },
      "source": [
        "train_dataset, test_dataset = data['train'], data['test']"
      ],
      "execution_count": 0,
      "outputs": []
    },
    {
      "cell_type": "code",
      "metadata": {
        "id": "rT2njmTL7gDn",
        "colab_type": "code",
        "outputId": "0a5ba682-9c37-4549-ef0f-815648e8b4bc",
        "colab": {
          "base_uri": "https://localhost:8080/",
          "height": 51
        }
      },
      "source": [
        "data"
      ],
      "execution_count": 0,
      "outputs": [
        {
          "output_type": "execute_result",
          "data": {
            "text/plain": [
              "{'test': <_OptionsDataset shapes: ((28, 28, 1), ()), types: (tf.uint8, tf.int64)>,\n",
              " 'train': <_OptionsDataset shapes: ((28, 28, 1), ()), types: (tf.uint8, tf.int64)>}"
            ]
          },
          "metadata": {
            "tags": []
          },
          "execution_count": 9
        }
      ]
    },
    {
      "cell_type": "code",
      "metadata": {
        "id": "Cm8g8IFd78aU",
        "colab_type": "code",
        "outputId": "16615fa6-473d-4a1a-a92d-a0c05d2019ac",
        "colab": {
          "base_uri": "https://localhost:8080/",
          "height": 442
        }
      },
      "source": [
        "print(metadata)"
      ],
      "execution_count": 0,
      "outputs": [
        {
          "output_type": "stream",
          "text": [
            "tfds.core.DatasetInfo(\n",
            "    name='mnist',\n",
            "    version=1.0.0,\n",
            "    description='The MNIST database of handwritten digits.',\n",
            "    homepage='http://yann.lecun.com/exdb/mnist/',\n",
            "    features=FeaturesDict({\n",
            "        'image': Image(shape=(28, 28, 1), dtype=tf.uint8),\n",
            "        'label': ClassLabel(shape=(), dtype=tf.int64, num_classes=10),\n",
            "    }),\n",
            "    total_num_examples=70000,\n",
            "    splits={\n",
            "        'test': 10000,\n",
            "        'train': 60000,\n",
            "    },\n",
            "    supervised_keys=('image', 'label'),\n",
            "    citation=\"\"\"@article{lecun2010mnist,\n",
            "      title={MNIST handwritten digit database},\n",
            "      author={LeCun, Yann and Cortes, Corinna and Burges, CJ},\n",
            "      journal={ATT Labs [Online]. Available: http://yann. lecun. com/exdb/mnist},\n",
            "      volume={2},\n",
            "      year={2010}\n",
            "    }\"\"\",\n",
            "    redistribution_info=,\n",
            ")\n",
            "\n"
          ],
          "name": "stdout"
        }
      ]
    },
    {
      "cell_type": "code",
      "metadata": {
        "id": "ADfol-lH8BCK",
        "colab_type": "code",
        "colab": {}
      },
      "source": [
        "class_names = [0, 1, 2, 3, 4, 5, 6, 7, 8, 9]"
      ],
      "execution_count": 0,
      "outputs": []
    },
    {
      "cell_type": "code",
      "metadata": {
        "id": "8jHVM_om8MTz",
        "colab_type": "code",
        "colab": {}
      },
      "source": [
        "num_train_data = metadata.splits['train'].num_examples\n",
        "num_test_data = metadata.splits['test'].num_examples"
      ],
      "execution_count": 0,
      "outputs": []
    },
    {
      "cell_type": "code",
      "metadata": {
        "id": "8__z7yvH8e25",
        "colab_type": "code",
        "outputId": "49cc24df-0f80-4549-cdf5-ff5c4585d1ec",
        "colab": {
          "base_uri": "https://localhost:8080/",
          "height": 34
        }
      },
      "source": [
        "train_dataset"
      ],
      "execution_count": 0,
      "outputs": [
        {
          "output_type": "execute_result",
          "data": {
            "text/plain": [
              "<_OptionsDataset shapes: ((28, 28, 1), ()), types: (tf.uint8, tf.int64)>"
            ]
          },
          "metadata": {
            "tags": []
          },
          "execution_count": 14
        }
      ]
    },
    {
      "cell_type": "code",
      "metadata": {
        "id": "nbwZKmgs8uSu",
        "colab_type": "code",
        "outputId": "ec36da1d-3b1d-431a-be78-a89e55c3476a",
        "colab": {
          "base_uri": "https://localhost:8080/",
          "height": 34
        }
      },
      "source": [
        "test_dataset"
      ],
      "execution_count": 0,
      "outputs": [
        {
          "output_type": "execute_result",
          "data": {
            "text/plain": [
              "<_OptionsDataset shapes: ((28, 28, 1), ()), types: (tf.uint8, tf.int64)>"
            ]
          },
          "metadata": {
            "tags": []
          },
          "execution_count": 17
        }
      ]
    },
    {
      "cell_type": "code",
      "metadata": {
        "id": "fW5KkTkj9Egz",
        "colab_type": "code",
        "outputId": "a9589f94-73f4-4028-8cc6-1d6c07e5b6cf",
        "colab": {
          "base_uri": "https://localhost:8080/",
          "height": 34
        }
      },
      "source": [
        "print(num_train_data)"
      ],
      "execution_count": 0,
      "outputs": [
        {
          "output_type": "stream",
          "text": [
            "60000\n"
          ],
          "name": "stdout"
        }
      ]
    },
    {
      "cell_type": "code",
      "metadata": {
        "id": "xHugr4-a9HJb",
        "colab_type": "code",
        "outputId": "88b78a47-e288-416b-cb09-949792b967be",
        "colab": {
          "base_uri": "https://localhost:8080/",
          "height": 34
        }
      },
      "source": [
        "print(num_test_data)"
      ],
      "execution_count": 0,
      "outputs": [
        {
          "output_type": "stream",
          "text": [
            "10000\n"
          ],
          "name": "stdout"
        }
      ]
    },
    {
      "cell_type": "code",
      "metadata": {
        "id": "ZPNIm4lo9JNL",
        "colab_type": "code",
        "colab": {}
      },
      "source": [
        "def normalize(images, labels):\n",
        "  images = tf.cast(images, tf.float64)\n",
        "  images /= 255"
      ],
      "execution_count": 0,
      "outputs": []
    },
    {
      "cell_type": "code",
      "metadata": {
        "id": "cvTrLSE9ADmZ",
        "colab_type": "code",
        "colab": {}
      },
      "source": [
        "def normalize(images, labels):\n",
        "  images = tf.cast(images, tf.float32)\n",
        "  images /= 255\n",
        "  return images, labels\n",
        "\n",
        "# The map function applies the normalize function to each element in the train\n",
        "# and test datasets\n",
        "train_dataset =  train_dataset.map(normalize)\n",
        "test_dataset  =  test_dataset.map(normalize)\n",
        "\n",
        "# The first time you use the dataset, the images will be loaded from disk\n",
        "# Caching will keep them in memory, making training faster\n",
        "train_dataset =  train_dataset.cache()\n",
        "test_dataset  =  test_dataset.cache()"
      ],
      "execution_count": 0,
      "outputs": []
    },
    {
      "cell_type": "code",
      "metadata": {
        "id": "rX66rmswYN0O",
        "colab_type": "code",
        "outputId": "e957a412-0a12-404f-edcd-0d2745738a12",
        "colab": {
          "base_uri": "https://localhost:8080/",
          "height": 589
        }
      },
      "source": [
        "plt.figure(figsize = (10, 10))\n",
        "i = 0\n",
        "for images, labels in train_dataset.take(25):\n",
        "  images = images.numpy().reshape((28, 28))\n",
        "  plt.subplot(5, 5, i+1)\n",
        "  plt.xticks([])\n",
        "  plt.yticks([])\n",
        "  plt.grid(False)\n",
        "  plt.imshow(images, cmap= plt.cm.binary)\n",
        "  plt.xlabel(class_names[labels])\n",
        "  i += 1\n",
        "plt.show()"
      ],
      "execution_count": 0,
      "outputs": [
        {
          "output_type": "display_data",
          "data": {
            "image/png": "[encoded data removed]",
            "text/plain": [
              "<Figure size 720x720 with 25 Axes>"
            ]
          },
          "metadata": {
            "tags": []
          }
        }
      ]
    },
    {
      "cell_type": "code",
      "metadata": {
        "id": "xRNRwyEREymf",
        "colab_type": "code",
        "colab": {}
      },
      "source": [
        "model = tf.keras.Sequential([\n",
        "                             tf.keras.layers.Conv2D(32, (3, 3), padding= 'same', activation= tf.nn.relu, input_shape = (28, 28, 1)),\n",
        "                             tf.keras.layers.MaxPooling2D((2, 2), strides = 2),\n",
        "                             tf.keras.layers.Conv2D(64, (3, 3), padding = 'same', activation = tf.nn.relu),\n",
        "                             tf.keras.layers.MaxPooling2D((2, 2), strides = 2),\n",
        "                             tf.keras.layers.Flatten(),\n",
        "                             tf.keras.layers.Dense(128, activation = tf.nn.relu),\n",
        "                             tf.keras.layers.Dense(10, activation = tf.nn.softmax)\n",
        "])"
      ],
      "execution_count": 0,
      "outputs": []
    },
    {
      "cell_type": "code",
      "metadata": {
        "id": "mTHQaCMmG3tJ",
        "colab_type": "code",
        "colab": {}
      },
      "source": [
        "model.compile(loss = 'sparse_categorical_crossentropy',\n",
        "              optimizer = 'adam',\n",
        "              metrics = ['accuracy'])"
      ],
      "execution_count": 0,
      "outputs": []
    },
    {
      "cell_type": "code",
      "metadata": {
        "id": "TkR8hRRWHdl0",
        "colab_type": "code",
        "colab": {}
      },
      "source": [
        "BATCH_SIZE = 32\n",
        "train_dataset = train_dataset.repeat().shuffle(60000).batch(BATCH_SIZE)\n",
        "test_dataset = test_dataset.batch(BATCH_SIZE)"
      ],
      "execution_count": 0,
      "outputs": []
    },
    {
      "cell_type": "code",
      "metadata": {
        "id": "DrDsOCuXH-fw",
        "colab_type": "code",
        "outputId": "4e57f098-90f8-40ff-db31-457c5ed4cd06",
        "colab": {
          "base_uri": "https://localhost:8080/",
          "height": 119
        }
      },
      "source": [
        "import math\n",
        "model.fit(train_dataset, epochs = 2, steps_per_epoch= math.ceil(num_train_data/BATCH_SIZE))"
      ],
      "execution_count": 0,
      "outputs": [
        {
          "output_type": "stream",
          "text": [
            "Train for 1875 steps\n",
            "Epoch 1/2\n",
            "1875/1875 [==============================] - 83s 44ms/step - loss: 0.1204 - accuracy: 0.9632\n",
            "Epoch 2/2\n",
            "1875/1875 [==============================] - 74s 39ms/step - loss: 0.0398 - accuracy: 0.9882\n"
          ],
          "name": "stdout"
        },
        {
          "output_type": "execute_result",
          "data": {
            "text/plain": [
              "<tensorflow.python.keras.callbacks.History at 0x7f6310d6d048>"
            ]
          },
          "metadata": {
            "tags": []
          },
          "execution_count": 27
        }
      ]
    },
    {
      "cell_type": "code",
      "metadata": {
        "id": "XPVAYxlBITL5",
        "colab_type": "code",
        "outputId": "fb50b7a8-a84d-4c95-acc5-941efdd00bf3",
        "colab": {
          "base_uri": "https://localhost:8080/",
          "height": 68
        }
      },
      "source": [
        "test_loss, test_acc = model.evaluate(test_dataset, steps= math.ceil(num_test_data/BATCH_SIZE))\n",
        "print(test_acc)\n",
        "print(test_loss)"
      ],
      "execution_count": 0,
      "outputs": [
        {
          "output_type": "stream",
          "text": [
            "313/313 [==============================] - 6s 18ms/step - loss: 0.0301 - accuracy: 0.9907\n",
            "0.9907\n",
            "0.030103011594155616\n"
          ],
          "name": "stdout"
        }
      ]
    },
    {
      "cell_type": "code",
      "metadata": {
        "id": "V1ndeOBFJ0Vj",
        "colab_type": "code",
        "colab": {}
      },
      "source": [
        "for test_images, test_labels in test_dataset.take(1):\n",
        "  test_images = test_images.numpy()\n",
        "  test_labels = test_labels.numpy()\n",
        "  predictions = model.predict(test_images)"
      ],
      "execution_count": 0,
      "outputs": []
    },
    {
      "cell_type": "code",
      "metadata": {
        "id": "eO5MmdHpWgqK",
        "colab_type": "code",
        "outputId": "21a4da35-6165-43e7-9a3c-c27fc88278dd",
        "colab": {
          "base_uri": "https://localhost:8080/",
          "height": 1000
        }
      },
      "source": [
        "predictions"
      ],
      "execution_count": 0,
      "outputs": [
        {
          "output_type": "execute_result",
          "data": {
            "text/plain": [
              "array([[5.7345965e-11, 1.1698671e-09, 1.0000000e+00, 2.8662239e-08,\n",
              "        6.1903913e-11, 3.1581649e-13, 1.3605910e-14, 9.4076844e-09,\n",
              "        1.2384248e-08, 5.5291180e-14],\n",
              "       [9.9998891e-01, 4.7770304e-10, 2.4016259e-07, 7.4875555e-09,\n",
              "        4.3825583e-08, 1.8899584e-08, 3.3712854e-06, 6.6850895e-08,\n",
              "        3.5003939e-06, 3.9233332e-06],\n",
              "       [9.9999535e-01, 2.0520817e-10, 2.3261352e-07, 5.8418415e-08,\n",
              "        4.5380819e-10, 4.3276959e-08, 2.4130449e-07, 9.1716768e-09,\n",
              "        6.6351492e-07, 3.4449845e-06],\n",
              "       [4.6214031e-12, 4.0789922e-14, 4.6919599e-08, 8.7557721e-09,\n",
              "        1.9649626e-13, 9.4541646e-09, 1.5237635e-10, 7.3369536e-15,\n",
              "        9.9999988e-01, 1.3466345e-09],\n",
              "       [9.6176620e-08, 9.9997914e-01, 5.0630410e-06, 2.6440161e-09,\n",
              "        5.2341315e-06, 1.2592410e-07, 3.9145718e-08, 5.2726282e-06,\n",
              "        4.6590590e-06, 3.2788844e-07],\n",
              "       [3.0975991e-10, 5.3931331e-09, 5.8362604e-10, 5.9696234e-08,\n",
              "        2.5022787e-04, 3.3527982e-07, 2.5304673e-11, 7.3668169e-05,\n",
              "        5.5432100e-08, 9.9967575e-01],\n",
              "       [8.8014012e-08, 9.9998057e-01, 3.2773933e-06, 6.0356797e-07,\n",
              "        5.2448422e-06, 5.6209007e-07, 1.1147398e-06, 1.0345865e-08,\n",
              "        8.2361212e-06, 2.6246053e-07],\n",
              "       [1.2435919e-12, 3.2568332e-12, 4.6443609e-12, 1.4945744e-05,\n",
              "        4.7451765e-12, 9.9995804e-01, 5.8687157e-12, 3.4052962e-12,\n",
              "        2.6963575e-05, 8.2860254e-08],\n",
              "       [3.7995530e-08, 9.9995124e-01, 5.9715070e-08, 3.5022669e-09,\n",
              "        4.6513091e-05, 2.1650531e-07, 1.5967785e-07, 3.8640513e-07,\n",
              "        4.8944344e-07, 9.4091013e-07],\n",
              "       [9.9821740e-01, 1.9090686e-07, 4.5529490e-05, 3.5176796e-05,\n",
              "        4.6010836e-08, 1.3137446e-04, 2.6377666e-06, 1.4745909e-03,\n",
              "        2.3506234e-05, 6.9591035e-05],\n",
              "       [7.0575451e-10, 3.5469905e-10, 1.3280542e-08, 1.0598087e-05,\n",
              "        4.5352604e-04, 3.2612215e-06, 1.4140068e-10, 1.4182424e-06,\n",
              "        1.3483045e-04, 9.9939632e-01],\n",
              "       [1.3184966e-06, 9.9888211e-01, 1.9127883e-05, 3.4354540e-04,\n",
              "        1.3881891e-04, 2.1409050e-04, 9.6036856e-06, 1.0555605e-05,\n",
              "        3.5775622e-04, 2.3100041e-05],\n",
              "       [4.4615136e-13, 6.6228656e-10, 1.7820927e-09, 4.1446968e-10,\n",
              "        9.9999976e-01, 5.4785659e-08, 2.2690920e-11, 6.0521444e-08,\n",
              "        9.8482233e-10, 5.9339534e-08],\n",
              "       [4.3562588e-12, 5.1980713e-08, 2.6493620e-07, 9.9999726e-01,\n",
              "        4.2944211e-11, 4.5479669e-07, 2.9816991e-13, 4.4060400e-07,\n",
              "        1.5752528e-07, 1.3734352e-06],\n",
              "       [9.8753472e-10, 1.1261514e-09, 1.2596982e-07, 2.5101597e-05,\n",
              "        4.7318747e-05, 2.6640691e-05, 6.5644212e-11, 3.5122730e-04,\n",
              "        1.8807285e-02, 9.8074222e-01],\n",
              "       [6.6515855e-03, 5.5139419e-04, 1.5933778e-05, 2.4871362e-04,\n",
              "        3.5217697e-06, 2.1890590e-01, 6.5652204e-01, 2.9100704e-06,\n",
              "        1.1500299e-01, 2.0949990e-03],\n",
              "       [1.5268290e-07, 4.9029829e-09, 9.9993396e-01, 4.4217649e-07,\n",
              "        3.9723009e-08, 1.3961285e-07, 5.8946265e-11, 2.7835258e-08,\n",
              "        6.5160457e-05, 3.1627746e-08],\n",
              "       [4.7101286e-12, 1.2817459e-07, 5.6165188e-08, 9.9999666e-01,\n",
              "        1.9212012e-08, 1.3549450e-06, 5.0531627e-12, 1.5958516e-08,\n",
              "        5.7917816e-07, 1.1597474e-06],\n",
              "       [4.0744055e-10, 1.5180831e-07, 1.3636732e-09, 2.5463302e-03,\n",
              "        5.3795617e-09, 9.9686927e-01, 4.8622944e-08, 5.7459943e-11,\n",
              "        5.2512810e-04, 5.9233684e-05],\n",
              "       [5.7385951e-05, 8.1167030e-08, 2.9759216e-08, 3.4485627e-08,\n",
              "        1.2055799e-06, 2.0597001e-06, 9.9989772e-01, 1.0154063e-10,\n",
              "        4.1184816e-05, 2.7829830e-07],\n",
              "       [9.9993229e-01, 2.2638132e-10, 1.4496582e-05, 2.0320667e-07,\n",
              "        2.0557454e-09, 2.2799135e-08, 1.5177443e-07, 3.7329134e-08,\n",
              "        1.8803737e-06, 5.0917570e-05],\n",
              "       [2.2545812e-09, 1.6868408e-07, 9.9994040e-01, 8.2605766e-06,\n",
              "        2.1078954e-13, 9.9622645e-12, 9.3197073e-12, 8.6151950e-08,\n",
              "        5.1088467e-05, 3.0256572e-10],\n",
              "       [4.7271128e-06, 9.9986422e-01, 1.8993394e-05, 1.2611627e-08,\n",
              "        1.3229515e-05, 9.3297268e-07, 7.9652091e-06, 1.2461733e-05,\n",
              "        7.5394280e-05, 1.9357378e-06],\n",
              "       [4.1243158e-08, 8.7156733e-11, 3.8310750e-07, 1.3502842e-07,\n",
              "        3.5343264e-09, 2.7969278e-07, 1.0393205e-06, 3.1669983e-11,\n",
              "        9.9999785e-01, 2.6011796e-07],\n",
              "       [9.9999547e-01, 1.8124151e-09, 3.3108125e-07, 2.9228269e-11,\n",
              "        8.3679598e-11, 1.7828500e-09, 2.1281110e-08, 6.2309171e-09,\n",
              "        4.1259154e-06, 6.5343557e-09],\n",
              "       [4.2673351e-11, 1.7143529e-09, 4.3431472e-09, 1.1036077e-06,\n",
              "        1.0114293e-04, 4.0832245e-07, 1.2819164e-12, 1.6407726e-06,\n",
              "        5.8097253e-08, 9.9989569e-01],\n",
              "       [5.8351203e-13, 1.0966109e-12, 4.7727322e-14, 2.7401880e-08,\n",
              "        1.1728269e-11, 9.9999487e-01, 2.8438240e-11, 9.3120315e-14,\n",
              "        5.2446643e-07, 4.6420041e-06],\n",
              "       [8.3179839e-07, 3.8020636e-07, 2.4163536e-09, 5.6957737e-07,\n",
              "        3.5000589e-06, 5.2080695e-06, 9.9998951e-01, 2.1945721e-11,\n",
              "        2.0164846e-08, 6.9302880e-10],\n",
              "       [1.1066772e-12, 1.0015039e-12, 1.9495668e-10, 1.5752871e-11,\n",
              "        1.8451948e-12, 9.4119450e-06, 9.1617675e-10, 1.1304865e-12,\n",
              "        9.9999058e-01, 2.5871751e-09],\n",
              "       [7.7478002e-10, 8.6908688e-07, 8.6995712e-08, 9.8389810e-06,\n",
              "        9.0988988e-01, 3.0172126e-07, 2.0253998e-09, 3.1986606e-04,\n",
              "        1.2163786e-04, 8.9657515e-02],\n",
              "       [8.5917925e-08, 1.4577692e-10, 9.9998975e-01, 6.3623402e-06,\n",
              "        4.2166642e-11, 5.1956084e-10, 2.2200000e-12, 3.4156042e-08,\n",
              "        3.6710512e-06, 1.9240975e-10],\n",
              "       [9.9995601e-01, 9.3462660e-09, 1.0541297e-05, 1.4277533e-07,\n",
              "        6.2687451e-07, 8.4570093e-09, 3.9300835e-06, 9.5435425e-08,\n",
              "        1.7658420e-05, 1.1018566e-05]], dtype=float32)"
            ]
          },
          "metadata": {
            "tags": []
          },
          "execution_count": 30
        }
      ]
    },
    {
      "cell_type": "code",
      "metadata": {
        "id": "54xRa3CDQeoS",
        "colab_type": "code",
        "outputId": "1925cbcb-d791-470d-b118-cceb174af574",
        "colab": {
          "base_uri": "https://localhost:8080/",
          "height": 68
        }
      },
      "source": [
        "predictions[0]"
      ],
      "execution_count": 0,
      "outputs": [
        {
          "output_type": "execute_result",
          "data": {
            "text/plain": [
              "array([5.7345965e-11, 1.1698671e-09, 1.0000000e+00, 2.8662239e-08,\n",
              "       6.1903913e-11, 3.1581649e-13, 1.3605910e-14, 9.4076844e-09,\n",
              "       1.2384248e-08, 5.5291180e-14], dtype=float32)"
            ]
          },
          "metadata": {
            "tags": []
          },
          "execution_count": 31
        }
      ]
    },
    {
      "cell_type": "code",
      "metadata": {
        "id": "U6jf1quoQhDo",
        "colab_type": "code",
        "outputId": "5b222660-3725-482a-87a3-6c89b698b859",
        "colab": {
          "base_uri": "https://localhost:8080/",
          "height": 34
        }
      },
      "source": [
        "np.argmax(predictions[0])"
      ],
      "execution_count": 0,
      "outputs": [
        {
          "output_type": "execute_result",
          "data": {
            "text/plain": [
              "2"
            ]
          },
          "metadata": {
            "tags": []
          },
          "execution_count": 32
        }
      ]
    },
    {
      "cell_type": "code",
      "metadata": {
        "id": "ZdO3lP0FQmku",
        "colab_type": "code",
        "outputId": "596d0c9f-e7a7-4ef6-d0a9-4e9926f46300",
        "colab": {
          "base_uri": "https://localhost:8080/",
          "height": 34
        }
      },
      "source": [
        "test_labels[0]"
      ],
      "execution_count": 0,
      "outputs": [
        {
          "output_type": "execute_result",
          "data": {
            "text/plain": [
              "2"
            ]
          },
          "metadata": {
            "tags": []
          },
          "execution_count": 33
        }
      ]
    },
    {
      "cell_type": "code",
      "metadata": {
        "id": "z__7jJdjQpYo",
        "colab_type": "code",
        "colab": {}
      },
      "source": [
        "def plot_image(i, predictions_array, true_labels, images):\n",
        "  predictions_array, true_label, img = predictions_array[i], true_labels[i], images[i]\n",
        "  plt.grid(False)\n",
        "  plt.xticks([])\n",
        "  plt.yticks([])\n",
        "  \n",
        "  plt.imshow(img[...,0], cmap=plt.cm.binary)\n",
        "\n",
        "  predicted_label = np.argmax(predictions_array)\n",
        "  if predicted_label == true_label:\n",
        "    color = 'blue'\n",
        "  else:\n",
        "    color = 'red'\n",
        "  \n",
        "  plt.xlabel(\"{} {:2.0f}% ({})\".format(class_names[predicted_label],\n",
        "                                100*np.max(predictions_array),\n",
        "                                class_names[true_label]),\n",
        "                                color=color)\n",
        "\n",
        "def plot_value_array(i, predictions_array, true_label):\n",
        "  predictions_array, true_label = predictions_array[i], true_label[i]\n",
        "  plt.grid(False)\n",
        "  plt.xticks([])\n",
        "  plt.yticks([])\n",
        "  thisplot = plt.bar(range(10), predictions_array, color=\"#777777\")\n",
        "  plt.ylim([0, 1])\n",
        "  predicted_label = np.argmax(predictions_array)\n",
        "  \n",
        "  thisplot[predicted_label].set_color('red')\n",
        "  thisplot[true_label].set_color('blue')"
      ],
      "execution_count": 0,
      "outputs": []
    },
    {
      "cell_type": "code",
      "metadata": {
        "id": "YDdLGy2DUFuP",
        "colab_type": "code",
        "outputId": "862a0bbd-505d-444f-a3c9-08362d9444a3",
        "colab": {
          "base_uri": "https://localhost:8080/",
          "height": 203
        }
      },
      "source": [
        "i = 0\n",
        "plt.figure(figsize=(6, 3))\n",
        "plt.subplot(1,2,1)\n",
        "plot_image(i, predictions, test_labels, test_images)\n",
        "plt.subplot(1,2,2)\n",
        "plot_value_array(i, predictions, test_labels)"
      ],
      "execution_count": 0,
      "outputs": [
        {
          "output_type": "display_data",
          "data": {
            "image/png": "[encoded data removed]",
            "text/plain": [
              "<Figure size 432x216 with 2 Axes>"
            ]
          },
          "metadata": {
            "tags": []
          }
        }
      ]
    }
  ]
}